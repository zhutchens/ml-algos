{
 "cells": [
  {
   "cell_type": "code",
   "execution_count": 1,
   "id": "f3875def",
   "metadata": {},
   "outputs": [],
   "source": [
    "import matplotlib.pyplot as plt\n",
    "import numpy as np\n",
    "from sklearn.metrics import mean_squared_error, r2_score\n",
    "from sklearn.preprocessing import StandardScaler"
   ]
  },
  {
   "cell_type": "code",
   "execution_count": 2,
   "id": "ff440f7b",
   "metadata": {},
   "outputs": [],
   "source": [
    "from sklearn.datasets import fetch_california_housing\n",
    "from sklearn.model_selection import train_test_split\n",
    "ds = fetch_california_housing()\n",
    "x_train, x_test, y_train, y_test = train_test_split(ds['data'], ds['target'], test_size = 0.8)\n",
    "scaler = StandardScaler()\n",
    "x_train = scaler.fit_transform(x_train)\n",
    "x_test = scaler.fit_transform(x_test)"
   ]
  },
  {
   "cell_type": "markdown",
   "id": "94236920",
   "metadata": {},
   "source": [
    "<h3>Testing linear regression without regularization</h3>"
   ]
  },
  {
   "cell_type": "code",
   "execution_count": 3,
   "id": "f4d1808d",
   "metadata": {},
   "outputs": [],
   "source": [
    "from sklearn.linear_model import LinearRegression as SKLR\n",
    "from models.regression import LinearRegression\n",
    "sk_lr = SKLR()\n",
    "sk_lr = sk_lr.fit(x_train, y_train)"
   ]
  },
  {
   "cell_type": "code",
   "execution_count": 4,
   "id": "6e31729c",
   "metadata": {},
   "outputs": [
    {
     "data": {
      "text/plain": [
       "array([ 0.84556901,  0.10953572, -0.32282234,  0.36140828,  0.00417713,\n",
       "       -0.05263559, -0.87787348, -0.87102591])"
      ]
     },
     "execution_count": 4,
     "metadata": {},
     "output_type": "execute_result"
    }
   ],
   "source": [
    "sk_lr.coef_"
   ]
  },
  {
   "cell_type": "code",
   "execution_count": 5,
   "id": "cc6e570c",
   "metadata": {},
   "outputs": [
    {
     "data": {
      "text/plain": [
       "np.float64(2.066029021317892)"
      ]
     },
     "execution_count": 5,
     "metadata": {},
     "output_type": "execute_result"
    }
   ],
   "source": [
    "sk_lr.intercept_"
   ]
  },
  {
   "cell_type": "code",
   "execution_count": 6,
   "id": "0381d7d1",
   "metadata": {},
   "outputs": [],
   "source": [
    "test_lr = LinearRegression()\n",
    "test_lr.fit(x_train, y_train, 0.0001)"
   ]
  },
  {
   "cell_type": "code",
   "execution_count": 7,
   "id": "c1e917b0",
   "metadata": {},
   "outputs": [
    {
     "data": {
      "text/plain": [
       "array([ 0.84556901,  0.10953572, -0.32282234,  0.36140829,  0.00417713,\n",
       "       -0.05263559, -0.87787348, -0.87102591])"
      ]
     },
     "execution_count": 7,
     "metadata": {},
     "output_type": "execute_result"
    }
   ],
   "source": [
    "test_lr.coefficents"
   ]
  },
  {
   "cell_type": "code",
   "execution_count": 8,
   "id": "d2ab6519",
   "metadata": {},
   "outputs": [
    {
     "data": {
      "text/plain": [
       "np.float64(2.0660290213072585)"
      ]
     },
     "execution_count": 8,
     "metadata": {},
     "output_type": "execute_result"
    }
   ],
   "source": [
    "test_lr.intercept"
   ]
  },
  {
   "cell_type": "code",
   "execution_count": 9,
   "id": "f5cad492",
   "metadata": {},
   "outputs": [
    {
     "name": "stdout",
     "output_type": "stream",
     "text": [
      "0.5248026848182101\n",
      "0.60686448958553\n"
     ]
    }
   ],
   "source": [
    "print(mean_squared_error(y_test, sk_lr.predict(x_test)))\n",
    "print(r2_score(y_test, sk_lr.predict(x_test)))"
   ]
  },
  {
   "cell_type": "code",
   "execution_count": 10,
   "id": "b55a20f2",
   "metadata": {},
   "outputs": [
    {
     "name": "stdout",
     "output_type": "stream",
     "text": [
      "0.5248026848665217\n",
      "0.6068644895493391\n"
     ]
    }
   ],
   "source": [
    "print(mean_squared_error(y_test, test_lr.predict(x_test)))\n",
    "print(r2_score(y_test, test_lr.predict(x_test)))"
   ]
  },
  {
   "cell_type": "markdown",
   "id": "3479bf3a",
   "metadata": {},
   "source": [
    "<h3>Testing lasso</h3>"
   ]
  },
  {
   "cell_type": "code",
   "execution_count": 11,
   "id": "24437850",
   "metadata": {},
   "outputs": [],
   "source": [
    "from models.regression import Lasso\n",
    "from sklearn.linear_model import Lasso as SKLasso"
   ]
  },
  {
   "cell_type": "code",
   "execution_count": 12,
   "id": "567af008",
   "metadata": {},
   "outputs": [],
   "source": [
    "test_lasso = Lasso(0.1)"
   ]
  },
  {
   "cell_type": "code",
   "execution_count": 13,
   "id": "80c838e1",
   "metadata": {},
   "outputs": [],
   "source": [
    "test_lasso.fit(x_train, y_train, 0.01)"
   ]
  },
  {
   "cell_type": "code",
   "execution_count": 14,
   "id": "a060ad93",
   "metadata": {},
   "outputs": [
    {
     "data": {
      "text/plain": [
       "array([ 0.69470665,  0.09952343, -0.        , -0.        ,  0.        ,\n",
       "       -0.        , -0.        , -0.        ])"
      ]
     },
     "execution_count": 14,
     "metadata": {},
     "output_type": "execute_result"
    }
   ],
   "source": [
    "test_lasso.coefficents"
   ]
  },
  {
   "cell_type": "code",
   "execution_count": 15,
   "id": "49fa1352",
   "metadata": {},
   "outputs": [
    {
     "data": {
      "text/plain": [
       "np.float64(2.0659398282677954)"
      ]
     },
     "execution_count": 15,
     "metadata": {},
     "output_type": "execute_result"
    }
   ],
   "source": [
    "test_lasso.intercept"
   ]
  },
  {
   "cell_type": "code",
   "execution_count": 17,
   "id": "660f9d46",
   "metadata": {},
   "outputs": [],
   "source": [
    "sklasso = SKLasso(0.1)"
   ]
  },
  {
   "cell_type": "code",
   "execution_count": 18,
   "id": "180d88d0",
   "metadata": {},
   "outputs": [],
   "source": [
    "sklasso = sklasso.fit(x_train, y_train)"
   ]
  },
  {
   "cell_type": "code",
   "execution_count": 19,
   "id": "499a9193",
   "metadata": {},
   "outputs": [
    {
     "data": {
      "text/plain": [
       "array([ 0.69476322,  0.09957099, -0.        , -0.        ,  0.        ,\n",
       "       -0.        , -0.        , -0.        ])"
      ]
     },
     "execution_count": 19,
     "metadata": {},
     "output_type": "execute_result"
    }
   ],
   "source": [
    "sklasso.coef_"
   ]
  },
  {
   "cell_type": "code",
   "execution_count": 20,
   "id": "ea3fb434",
   "metadata": {},
   "outputs": [
    {
     "data": {
      "text/plain": [
       "np.float64(2.0660290213178314)"
      ]
     },
     "execution_count": 20,
     "metadata": {},
     "output_type": "execute_result"
    }
   ],
   "source": [
    "sklasso.intercept_"
   ]
  },
  {
   "cell_type": "code",
   "execution_count": 21,
   "id": "94e9b40e",
   "metadata": {},
   "outputs": [
    {
     "name": "stdout",
     "output_type": "stream",
     "text": [
      "0.6797952866283414\n"
     ]
    },
    {
     "data": {
      "text/plain": [
       "0.4907578129510539"
      ]
     },
     "execution_count": 21,
     "metadata": {},
     "output_type": "execute_result"
    }
   ],
   "source": [
    "print(mean_squared_error(y_test, test_lasso.predict(x_test)))\n",
    "r2_score(y_test, test_lasso.predict(x_test))"
   ]
  },
  {
   "cell_type": "code",
   "execution_count": 22,
   "id": "a4418464",
   "metadata": {},
   "outputs": [
    {
     "name": "stdout",
     "output_type": "stream",
     "text": [
      "0.6797717255607415\n"
     ]
    },
    {
     "data": {
      "text/plain": [
       "0.4907754628080474"
      ]
     },
     "execution_count": 22,
     "metadata": {},
     "output_type": "execute_result"
    }
   ],
   "source": [
    "print(mean_squared_error(y_test, sklasso.predict(x_test)))\n",
    "r2_score(y_test, sklasso.predict(x_test))"
   ]
  },
  {
   "cell_type": "markdown",
   "id": "0b35c859",
   "metadata": {},
   "source": [
    "<h3>Testing ridge</h3>"
   ]
  },
  {
   "cell_type": "code",
   "execution_count": 3,
   "id": "877dbf24",
   "metadata": {},
   "outputs": [],
   "source": [
    "from sklearn.linear_model import Ridge as SKRidge\n",
    "from models.regression import Ridge"
   ]
  },
  {
   "cell_type": "code",
   "execution_count": 14,
   "id": "93353069",
   "metadata": {},
   "outputs": [],
   "source": [
    "test_ridge = Ridge(0.01)\n",
    "test_ridge.fit(x_train, y_train, 0.0001)"
   ]
  },
  {
   "cell_type": "code",
   "execution_count": 15,
   "id": "9d783d7e",
   "metadata": {},
   "outputs": [
    {
     "data": {
      "text/plain": [
       "array([ 0.84271363,  0.13605618, -0.2412151 ,  0.25410362, -0.00243057,\n",
       "       -0.03204032, -0.8712751 , -0.84051319])"
      ]
     },
     "execution_count": 15,
     "metadata": {},
     "output_type": "execute_result"
    }
   ],
   "source": [
    "test_ridge.coefficents"
   ]
  },
  {
   "cell_type": "code",
   "execution_count": 16,
   "id": "db5306ee",
   "metadata": {},
   "outputs": [
    {
     "data": {
      "text/plain": [
       "np.float64(2.0726926088627806)"
      ]
     },
     "execution_count": 16,
     "metadata": {},
     "output_type": "execute_result"
    }
   ],
   "source": [
    "test_ridge.intercept"
   ]
  },
  {
   "cell_type": "code",
   "execution_count": 17,
   "id": "0ff90a25",
   "metadata": {},
   "outputs": [],
   "source": [
    "skr = SKRidge(0.01)"
   ]
  },
  {
   "cell_type": "code",
   "execution_count": 18,
   "id": "3cecc62b",
   "metadata": {},
   "outputs": [],
   "source": [
    "skr = skr.fit(x_test, y_test)"
   ]
  },
  {
   "cell_type": "code",
   "execution_count": 19,
   "id": "0b24b2f7",
   "metadata": {},
   "outputs": [
    {
     "data": {
      "text/plain": [
       "array([ 0.8271207 ,  0.11415841, -0.27345538,  0.31925564, -0.00517604,\n",
       "       -0.04111943, -0.905499  , -0.87674945])"
      ]
     },
     "execution_count": 19,
     "metadata": {},
     "output_type": "execute_result"
    }
   ],
   "source": [
    "skr.coef_"
   ]
  },
  {
   "cell_type": "code",
   "execution_count": 11,
   "id": "57ffd1d3",
   "metadata": {},
   "outputs": [
    {
     "data": {
      "text/plain": [
       "np.float64(2.0675245591085334)"
      ]
     },
     "execution_count": 11,
     "metadata": {},
     "output_type": "execute_result"
    }
   ],
   "source": [
    "skr.intercept_"
   ]
  },
  {
   "cell_type": "code",
   "execution_count": 12,
   "id": "3612d926",
   "metadata": {},
   "outputs": [
    {
     "name": "stdout",
     "output_type": "stream",
     "text": [
      "0.5274830197060321\n"
     ]
    },
    {
     "data": {
      "text/plain": [
       "0.6026596470503957"
      ]
     },
     "execution_count": 12,
     "metadata": {},
     "output_type": "execute_result"
    }
   ],
   "source": [
    "print(mean_squared_error(y_test, test_ridge.predict(x_test)))\n",
    "r2_score(y_test, test_ridge.predict(x_test))"
   ]
  },
  {
   "cell_type": "code",
   "execution_count": 13,
   "id": "b1c1d9db",
   "metadata": {},
   "outputs": [
    {
     "name": "stdout",
     "output_type": "stream",
     "text": [
      "0.5248537999076959\n"
     ]
    },
    {
     "data": {
      "text/plain": [
       "0.6046401754913588"
      ]
     },
     "execution_count": 13,
     "metadata": {},
     "output_type": "execute_result"
    }
   ],
   "source": [
    "print(mean_squared_error(y_test, skr.predict(x_test)))\n",
    "r2_score(y_test, skr.predict(x_test))"
   ]
  },
  {
   "cell_type": "markdown",
   "id": "ad97df12",
   "metadata": {},
   "source": [
    "<h3>Testing elastic net</h3>"
   ]
  },
  {
   "cell_type": "code",
   "execution_count": null,
   "id": "2992ddc5",
   "metadata": {},
   "outputs": [],
   "source": [
    "from sklearn.linear_model import ElasticNet as SKEN\n",
    "from models import ElasticNet"
   ]
  },
  {
   "cell_type": "code",
   "execution_count": null,
   "id": "ce7d41d3",
   "metadata": {},
   "outputs": [],
   "source": [
    "test_en = ElasticNet(0.1, 0.1)\n",
    "test_en.fit(x_test, y_test, 0.01)"
   ]
  },
  {
   "cell_type": "code",
   "execution_count": null,
   "id": "4f20865f",
   "metadata": {},
   "outputs": [
    {
     "data": {
      "text/plain": [
       "array([ 0.75821246,  0.14913039, -0.0709343 ,  0.08200048,  0.00089227,\n",
       "       -0.02398056, -0.49189524, -0.45321651])"
      ]
     },
     "execution_count": 102,
     "metadata": {},
     "output_type": "execute_result"
    }
   ],
   "source": [
    "test_en.a"
   ]
  },
  {
   "cell_type": "code",
   "execution_count": null,
   "id": "77e0b9b8",
   "metadata": {},
   "outputs": [
    {
     "data": {
      "text/plain": [
       "[np.float64(2.0718987227774655)]"
      ]
     },
     "execution_count": 103,
     "metadata": {},
     "output_type": "execute_result"
    }
   ],
   "source": [
    "test_en.intercept"
   ]
  },
  {
   "cell_type": "code",
   "execution_count": null,
   "id": "507ff819",
   "metadata": {},
   "outputs": [],
   "source": [
    "sken = SKEN()\n",
    "sken = sken.fit(x_test, y_test)"
   ]
  },
  {
   "cell_type": "code",
   "execution_count": null,
   "id": "2e056558",
   "metadata": {},
   "outputs": [
    {
     "data": {
      "text/plain": [
       "array([ 0.19568557,  0.        ,  0.        , -0.        , -0.        ,\n",
       "       -0.        , -0.        , -0.        ])"
      ]
     },
     "execution_count": 77,
     "metadata": {},
     "output_type": "execute_result"
    }
   ],
   "source": [
    "sken.coef_"
   ]
  },
  {
   "cell_type": "code",
   "execution_count": null,
   "id": "f017a19c",
   "metadata": {},
   "outputs": [
    {
     "data": {
      "text/plain": [
       "np.float64(2.0718987227470946)"
      ]
     },
     "execution_count": 78,
     "metadata": {},
     "output_type": "execute_result"
    }
   ],
   "source": [
    "sken.intercept_"
   ]
  },
  {
   "cell_type": "code",
   "execution_count": null,
   "id": "8d972e34",
   "metadata": {},
   "outputs": [
    {
     "name": "stdout",
     "output_type": "stream",
     "text": [
      "0.6106808115672934\n"
     ]
    },
    {
     "data": {
      "text/plain": [
       "0.5442724932011275"
      ]
     },
     "execution_count": 88,
     "metadata": {},
     "output_type": "execute_result"
    }
   ],
   "source": [
    "print(mean_squared_error(y_test, test_en.predict(x_test)))\n",
    "r2_score(y_test, test_en.predict(x_test))"
   ]
  },
  {
   "cell_type": "code",
   "execution_count": null,
   "id": "9bf62f65",
   "metadata": {},
   "outputs": [
    {
     "name": "stdout",
     "output_type": "stream",
     "text": [
      "1.067741812780713\n"
     ]
    },
    {
     "data": {
      "text/plain": [
       "0.20318551847957877"
      ]
     },
     "execution_count": 104,
     "metadata": {},
     "output_type": "execute_result"
    }
   ],
   "source": [
    "print(mean_squared_error(y_test, sken.predict(x_test)))\n",
    "r2_score(y_test, sken.predict(x_test))"
   ]
  }
 ],
 "metadata": {
  "kernelspec": {
   "display_name": "venv (3.13.5)",
   "language": "python",
   "name": "python3"
  },
  "language_info": {
   "codemirror_mode": {
    "name": "ipython",
    "version": 3
   },
   "file_extension": ".py",
   "mimetype": "text/x-python",
   "name": "python",
   "nbconvert_exporter": "python",
   "pygments_lexer": "ipython3",
   "version": "3.13.5"
  }
 },
 "nbformat": 4,
 "nbformat_minor": 5
}
